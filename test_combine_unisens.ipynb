{
 "cells": [
  {
   "cell_type": "code",
   "execution_count": null,
   "metadata": {},
   "outputs": [],
   "source": [
    "import importlib\n",
    "\n",
    "from datetime import timedelta\n",
    "from pathlib import Path\n",
    "\n",
    "import unisens_util as unisens_util\n",
    "importlib.reload(unisens_util)"
   ]
  },
  {
   "cell_type": "code",
   "execution_count": null,
   "metadata": {},
   "outputs": [],
   "source": [
    "\n",
    "data_path = Path(r'path')\n",
    "\n",
    "float_format = \"%.4f\"\n",
    "reorganize = True\n",
    "sep = \";\"\n",
    "decimal = \",\"\n",
    "\n",
    "reader = unisens_util.AudioClassifierDataReader(\n",
    "    data_path, float_format=float_format, reorganize=reorganize, sep=sep, decimal=decimal\n",
    ")\n",
    "\n",
    "mean_df = reader.compute_mean(timedelta(minutes = 1, seconds = 0))\n",
    "\n",
    "mean_df.head()"
   ]
  }
 ],
 "metadata": {
  "kernelspec": {
   "display_name": "test_unisens",
   "language": "python",
   "name": "python3"
  },
  "language_info": {
   "codemirror_mode": {
    "name": "ipython",
    "version": 3
   },
   "file_extension": ".py",
   "mimetype": "text/x-python",
   "name": "python",
   "nbconvert_exporter": "python",
   "pygments_lexer": "ipython3",
   "version": "3.13.2"
  }
 },
 "nbformat": 4,
 "nbformat_minor": 2
}
