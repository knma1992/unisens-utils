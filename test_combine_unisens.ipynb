{
 "cells": [
  {
   "cell_type": "code",
   "execution_count": null,
   "metadata": {},
   "outputs": [],
   "source": [
    "import importlib\n",
    "\n",
    "from datetime import timedelta\n",
    "from pathlib import Path\n",
    "\n",
    "import unisens_util as unisens_util\n",
    "importlib.reload(unisens_util)"
   ]
  },
  {
   "cell_type": "code",
   "execution_count": null,
   "metadata": {},
   "outputs": [],
   "source": [
    "\n",
    "data_path = Path(r'path')\n",
    "\n",
    "float_format = \"%.4f\"\n",
    "reorganize = True\n",
    "sep = \";\"\n",
    "decimal = \",\"\n",
    "\n",
    "reader = unisens_util.AudioClassifierDataReader(\n",
    "    data_path, float_format=float_format, reorganize=reorganize, sep=sep, decimal=decimal\n",
    ")\n",
    "\n",
    "mean_df = reader.compute_mean(timedelta(minutes = 1, seconds = 0))\n",
    "\n",
    "mean_df.head()"
   ]
  },
  {
   "cell_type": "code",
   "execution_count": null,
   "metadata": {},
   "outputs": [],
   "source": [
    "\n",
    "\n",
    "from pathlib import Path\n",
    "import pandas as pd\n",
    "\n",
    "csv_path = Path(\"classifier_results.csv\")\n",
    "df = pd.read_csv(csv_path)\n",
    "\n",
    "col_name = [f\"score{i}\" for i in range(521)]\n",
    "\n",
    "df = df[col_name]\n",
    "df.head()"
   ]
  },
  {
   "cell_type": "code",
   "execution_count": null,
   "metadata": {},
   "outputs": [],
   "source": [
    "csv_path = Path(\"classifier_results.csv\")\n",
    "df = pd.read_csv(csv_path, header= None)\n",
    "\n",
    "df.head()"
   ]
  },
  {
   "cell_type": "code",
   "execution_count": null,
   "metadata": {},
   "outputs": [],
   "source": [
    "import pandas as pd\n",
    "from pathlib import Path\n",
    "\n",
    "csv_path = Path(r\"C:\\Users\\markus.knoch\\Documents\\datasets\\test_data\\250307-141918 audioset_long_16khz_stream_results\\classifier_results.csv\")\n",
    "df_old = pd.read_csv(csv_path)\n",
    "\n",
    "csv_path = Path(r\"C:\\Users\\markus.knoch\\Documents\\datasets\\test_data\\250307-142436 audioset_long_16khz_stream_results\\classifier_results.csv\")\n",
    "df_new = pd.read_csv(csv_path)\n",
    "\n"
   ]
  },
  {
   "cell_type": "code",
   "execution_count": null,
   "metadata": {},
   "outputs": [],
   "source": [
    "ms_old = df_old[\"timeStampSystemMs\"].values[-1] - df_old[\"timeStampSystemMs\"].values[0]\n",
    "ms_new = df_new[\"timeStampSystemMs\"].values[-1] - df_new[\"timeStampSystemMs\"].values[0]\n",
    "\n",
    "\n",
    "print(f\"old: {ms_old/1000}, new: {ms_new/1000}\")\n",
    "\n"
   ]
  },
  {
   "cell_type": "code",
   "execution_count": null,
   "metadata": {},
   "outputs": [],
   "source": [
    "df_old[\"timeStampSystemMs\"]"
   ]
  },
  {
   "cell_type": "code",
   "execution_count": null,
   "metadata": {},
   "outputs": [],
   "source": [
    "df_old[\"timeStampSystemMs\"]"
   ]
  }
 ],
 "metadata": {
  "kernelspec": {
   "display_name": "test_unisens",
   "language": "python",
   "name": "python3"
  },
  "language_info": {
   "codemirror_mode": {
    "name": "ipython",
    "version": 3
   },
   "file_extension": ".py",
   "mimetype": "text/x-python",
   "name": "python",
   "nbconvert_exporter": "python",
   "pygments_lexer": "ipython3",
   "version": "3.13.2"
  }
 },
 "nbformat": 4,
 "nbformat_minor": 2
}
