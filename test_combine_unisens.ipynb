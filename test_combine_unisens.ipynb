{
 "cells": [
  {
   "cell_type": "code",
   "execution_count": 11,
   "metadata": {},
   "outputs": [
    {
     "data": {
      "text/plain": [
       "<module 'unisens_util' from 'c:\\\\Users\\\\markus.knoch\\\\Documents\\\\GitHub\\\\unisens-utils\\\\unisens_util.py'>"
      ]
     },
     "execution_count": 11,
     "metadata": {},
     "output_type": "execute_result"
    }
   ],
   "source": [
    "\n",
    "import importlib\n",
    "\n",
    "from datetime import timedelta\n",
    "from pathlib import Path\n",
    "\n",
    "import unisens_util as unisens_util\n",
    "importlib.reload(unisens_util)"
   ]
  },
  {
   "cell_type": "code",
   "execution_count": 13,
   "metadata": {},
   "outputs": [
    {
     "name": "stdout",
     "output_type": "stream",
     "text": [
      "|████████████████████████████████████████| 6260/6260 [100%] in 4.7s (1336.48/s) \n"
     ]
    },
    {
     "data": {
      "text/html": [
       "<div>\n",
       "<style scoped>\n",
       "    .dataframe tbody tr th:only-of-type {\n",
       "        vertical-align: middle;\n",
       "    }\n",
       "\n",
       "    .dataframe tbody tr th {\n",
       "        vertical-align: top;\n",
       "    }\n",
       "\n",
       "    .dataframe thead th {\n",
       "        text-align: right;\n",
       "    }\n",
       "</style>\n",
       "<table border=\"1\" class=\"dataframe\">\n",
       "  <thead>\n",
       "    <tr style=\"text-align: right;\">\n",
       "      <th></th>\n",
       "      <th>abs_timestamp</th>\n",
       "      <th>rel_timestamp_millis</th>\n",
       "      <th>class_1</th>\n",
       "      <th>score_1</th>\n",
       "      <th>class_2</th>\n",
       "      <th>score_2</th>\n",
       "      <th>class_3</th>\n",
       "      <th>score_3</th>\n",
       "      <th>class_4</th>\n",
       "      <th>score_4</th>\n",
       "      <th>class_5</th>\n",
       "      <th>score_5</th>\n",
       "    </tr>\n",
       "  </thead>\n",
       "  <tbody>\n",
       "    <tr>\n",
       "      <th>0</th>\n",
       "      <td>2025-02-25 09:41:09.597</td>\n",
       "      <td>30485.0</td>\n",
       "      <td>494</td>\n",
       "      <td>0.612153</td>\n",
       "      <td>378</td>\n",
       "      <td>0.221111</td>\n",
       "      <td>380</td>\n",
       "      <td>0.198965</td>\n",
       "      <td>500</td>\n",
       "      <td>0.034787</td>\n",
       "      <td>485</td>\n",
       "      <td>0.020136</td>\n",
       "    </tr>\n",
       "    <tr>\n",
       "      <th>1</th>\n",
       "      <td>2025-02-25 09:42:11.592</td>\n",
       "      <td>92480.0</td>\n",
       "      <td>494</td>\n",
       "      <td>0.665020</td>\n",
       "      <td>378</td>\n",
       "      <td>0.255751</td>\n",
       "      <td>380</td>\n",
       "      <td>0.232005</td>\n",
       "      <td>500</td>\n",
       "      <td>0.016376</td>\n",
       "      <td>485</td>\n",
       "      <td>0.008054</td>\n",
       "    </tr>\n",
       "    <tr>\n",
       "      <th>2</th>\n",
       "      <td>2025-02-25 09:43:13.592</td>\n",
       "      <td>154480.0</td>\n",
       "      <td>494</td>\n",
       "      <td>0.899468</td>\n",
       "      <td>378</td>\n",
       "      <td>0.038293</td>\n",
       "      <td>380</td>\n",
       "      <td>0.035852</td>\n",
       "      <td>353</td>\n",
       "      <td>0.010576</td>\n",
       "      <td>500</td>\n",
       "      <td>0.009048</td>\n",
       "    </tr>\n",
       "    <tr>\n",
       "      <th>3</th>\n",
       "      <td>2025-02-25 09:44:15.592</td>\n",
       "      <td>216480.0</td>\n",
       "      <td>494</td>\n",
       "      <td>0.612441</td>\n",
       "      <td>378</td>\n",
       "      <td>0.222031</td>\n",
       "      <td>380</td>\n",
       "      <td>0.207191</td>\n",
       "      <td>500</td>\n",
       "      <td>0.022180</td>\n",
       "      <td>485</td>\n",
       "      <td>0.010836</td>\n",
       "    </tr>\n",
       "    <tr>\n",
       "      <th>4</th>\n",
       "      <td>2025-02-25 09:45:17.592</td>\n",
       "      <td>278480.0</td>\n",
       "      <td>494</td>\n",
       "      <td>0.597518</td>\n",
       "      <td>378</td>\n",
       "      <td>0.274655</td>\n",
       "      <td>380</td>\n",
       "      <td>0.249903</td>\n",
       "      <td>500</td>\n",
       "      <td>0.029963</td>\n",
       "      <td>485</td>\n",
       "      <td>0.008943</td>\n",
       "    </tr>\n",
       "  </tbody>\n",
       "</table>\n",
       "</div>"
      ],
      "text/plain": [
       "            abs_timestamp  rel_timestamp_millis  class_1   score_1  class_2  \\\n",
       "0 2025-02-25 09:41:09.597               30485.0      494  0.612153      378   \n",
       "1 2025-02-25 09:42:11.592               92480.0      494  0.665020      378   \n",
       "2 2025-02-25 09:43:13.592              154480.0      494  0.899468      378   \n",
       "3 2025-02-25 09:44:15.592              216480.0      494  0.612441      378   \n",
       "4 2025-02-25 09:45:17.592              278480.0      494  0.597518      378   \n",
       "\n",
       "    score_2  class_3   score_3  class_4   score_4  class_5   score_5  \n",
       "0  0.221111      380  0.198965      500  0.034787      485  0.020136  \n",
       "1  0.255751      380  0.232005      500  0.016376      485  0.008054  \n",
       "2  0.038293      380  0.035852      353  0.010576      500  0.009048  \n",
       "3  0.222031      380  0.207191      500  0.022180      485  0.010836  \n",
       "4  0.274655      380  0.249903      500  0.029963      485  0.008943  "
      ]
     },
     "execution_count": 13,
     "metadata": {},
     "output_type": "execute_result"
    }
   ],
   "source": [
    "\n",
    "data_path = Path(r'C:\\Users\\markus.knoch\\Documents\\datasets\\test_data\\audio_classifier\\unisens_archive_20250225T131042+0100')\n",
    "\n",
    "float_format = \"%.4f\"\n",
    "reorganize = True\n",
    "sep = \";\"\n",
    "decimal = \",\"\n",
    "\n",
    "reader = unisens_util.AudioClassifierDataReader(\n",
    "    data_path, float_format=float_format, reorganize=reorganize, sep=sep, decimal=decimal\n",
    ")\n",
    "\n",
    "mean_df = reader.compute_mean(timedelta(minutes = 1, seconds = 0))\n",
    "\n",
    "mean_df.head()"
   ]
  }
 ],
 "metadata": {
  "kernelspec": {
   "display_name": "test_unisens",
   "language": "python",
   "name": "python3"
  },
  "language_info": {
   "codemirror_mode": {
    "name": "ipython",
    "version": 3
   },
   "file_extension": ".py",
   "mimetype": "text/x-python",
   "name": "python",
   "nbconvert_exporter": "python",
   "pygments_lexer": "ipython3",
   "version": "3.13.2"
  }
 },
 "nbformat": 4,
 "nbformat_minor": 2
}
