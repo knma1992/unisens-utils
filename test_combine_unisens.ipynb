{
 "cells": [
  {
   "cell_type": "code",
   "execution_count": 3,
   "metadata": {},
   "outputs": [
    {
     "data": {
      "text/plain": [
       "<module 'unisens_util' from 'c:\\\\Users\\\\markus.knoch\\\\Documents\\\\GitHub\\\\unisens-utils\\\\unisens_util.py'>"
      ]
     },
     "execution_count": 3,
     "metadata": {},
     "output_type": "execute_result"
    }
   ],
   "source": [
    "\n",
    "import importlib\n",
    "\n",
    "from datetime import timedelta\n",
    "from pathlib import Path\n",
    "\n",
    "import unisens_util as unisens_util\n",
    "importlib.reload(unisens_util)"
   ]
  },
  {
   "cell_type": "code",
   "execution_count": 4,
   "metadata": {},
   "outputs": [
    {
     "name": "stdout",
     "output_type": "stream",
     "text": [
      "|████████████████████████████████████████⚠︎ (!) 6259/6260 [100%] in 0.1s (81103.4\n"
     ]
    },
    {
     "data": {
      "text/html": [
       "<div>\n",
       "<style scoped>\n",
       "    .dataframe tbody tr th:only-of-type {\n",
       "        vertical-align: middle;\n",
       "    }\n",
       "\n",
       "    .dataframe tbody tr th {\n",
       "        vertical-align: top;\n",
       "    }\n",
       "\n",
       "    .dataframe thead th {\n",
       "        text-align: right;\n",
       "    }\n",
       "</style>\n",
       "<table border=\"1\" class=\"dataframe\">\n",
       "  <thead>\n",
       "    <tr style=\"text-align: right;\">\n",
       "      <th></th>\n",
       "      <th>abs_timestamp</th>\n",
       "      <th>rel_timestamp_millis</th>\n",
       "      <th>class_1</th>\n",
       "      <th>score_1</th>\n",
       "      <th>class_2</th>\n",
       "      <th>score_2</th>\n",
       "      <th>class_3</th>\n",
       "      <th>score_3</th>\n",
       "      <th>class_4</th>\n",
       "      <th>score_4</th>\n",
       "      <th>class_5</th>\n",
       "      <th>score_5</th>\n",
       "    </tr>\n",
       "  </thead>\n",
       "  <tbody>\n",
       "    <tr>\n",
       "      <th>0</th>\n",
       "      <td>2025-02-25 09:40:39.592</td>\n",
       "      <td>480</td>\n",
       "      <td>494</td>\n",
       "      <td>0.599224</td>\n",
       "      <td>378</td>\n",
       "      <td>0.228481</td>\n",
       "      <td>380</td>\n",
       "      <td>0.205597</td>\n",
       "      <td>500</td>\n",
       "      <td>0.035946</td>\n",
       "      <td>485</td>\n",
       "      <td>0.020807</td>\n",
       "    </tr>\n",
       "    <tr>\n",
       "      <th>1</th>\n",
       "      <td>2025-02-25 09:41:39.602</td>\n",
       "      <td>60490</td>\n",
       "      <td>494</td>\n",
       "      <td>0.685208</td>\n",
       "      <td>378</td>\n",
       "      <td>0.250459</td>\n",
       "      <td>380</td>\n",
       "      <td>0.228109</td>\n",
       "      <td>500</td>\n",
       "      <td>0.015069</td>\n",
       "      <td>473</td>\n",
       "      <td>0.007296</td>\n",
       "    </tr>\n",
       "    <tr>\n",
       "      <th>2</th>\n",
       "      <td>2025-02-25 09:42:39.602</td>\n",
       "      <td>120490</td>\n",
       "      <td>494</td>\n",
       "      <td>0.869126</td>\n",
       "      <td>378</td>\n",
       "      <td>0.051664</td>\n",
       "      <td>380</td>\n",
       "      <td>0.047106</td>\n",
       "      <td>353</td>\n",
       "      <td>0.017911</td>\n",
       "      <td>500</td>\n",
       "      <td>0.010841</td>\n",
       "    </tr>\n",
       "    <tr>\n",
       "      <th>3</th>\n",
       "      <td>2025-02-25 09:43:41.592</td>\n",
       "      <td>182480</td>\n",
       "      <td>494</td>\n",
       "      <td>0.640394</td>\n",
       "      <td>378</td>\n",
       "      <td>0.217649</td>\n",
       "      <td>380</td>\n",
       "      <td>0.202836</td>\n",
       "      <td>500</td>\n",
       "      <td>0.016009</td>\n",
       "      <td>485</td>\n",
       "      <td>0.011198</td>\n",
       "    </tr>\n",
       "    <tr>\n",
       "      <th>4</th>\n",
       "      <td>2025-02-25 09:44:41.592</td>\n",
       "      <td>242480</td>\n",
       "      <td>494</td>\n",
       "      <td>0.576567</td>\n",
       "      <td>378</td>\n",
       "      <td>0.286198</td>\n",
       "      <td>380</td>\n",
       "      <td>0.261157</td>\n",
       "      <td>500</td>\n",
       "      <td>0.028860</td>\n",
       "      <td>49</td>\n",
       "      <td>0.013651</td>\n",
       "    </tr>\n",
       "  </tbody>\n",
       "</table>\n",
       "</div>"
      ],
      "text/plain": [
       "            abs_timestamp  rel_timestamp_millis  class_1   score_1  class_2  \\\n",
       "0 2025-02-25 09:40:39.592                   480      494  0.599224      378   \n",
       "1 2025-02-25 09:41:39.602                 60490      494  0.685208      378   \n",
       "2 2025-02-25 09:42:39.602                120490      494  0.869126      378   \n",
       "3 2025-02-25 09:43:41.592                182480      494  0.640394      378   \n",
       "4 2025-02-25 09:44:41.592                242480      494  0.576567      378   \n",
       "\n",
       "    score_2  class_3   score_3  class_4   score_4  class_5   score_5  \n",
       "0  0.228481      380  0.205597      500  0.035946      485  0.020807  \n",
       "1  0.250459      380  0.228109      500  0.015069      473  0.007296  \n",
       "2  0.051664      380  0.047106      353  0.017911      500  0.010841  \n",
       "3  0.217649      380  0.202836      500  0.016009      485  0.011198  \n",
       "4  0.286198      380  0.261157      500  0.028860       49  0.013651  "
      ]
     },
     "execution_count": 4,
     "metadata": {},
     "output_type": "execute_result"
    }
   ],
   "source": [
    "\n",
    "data_path = Path(r'C:\\Users\\markus.knoch\\Documents\\datasets\\test_data\\audio_classifier\\unisens_archive_20250225T131042+0100')\n",
    "\n",
    "float_format = \"%.4f\"\n",
    "reorganize = True\n",
    "sep = \";\"\n",
    "decimal = \",\"\n",
    "\n",
    "reader = unisens_util.AudioClassifierDataReader(\n",
    "    data_path, float_format=float_format, reorganize=reorganize, sep=sep, decimal=decimal\n",
    ")\n",
    "\n",
    "mean_df = reader.compute_mean(timedelta(minutes = 1, seconds = 0))\n",
    "\n",
    "mean_df.head()"
   ]
  }
 ],
 "metadata": {
  "kernelspec": {
   "display_name": "test_unisens",
   "language": "python",
   "name": "python3"
  },
  "language_info": {
   "codemirror_mode": {
    "name": "ipython",
    "version": 3
   },
   "file_extension": ".py",
   "mimetype": "text/x-python",
   "name": "python",
   "nbconvert_exporter": "python",
   "pygments_lexer": "ipython3",
   "version": "3.13.2"
  }
 },
 "nbformat": 4,
 "nbformat_minor": 2
}
