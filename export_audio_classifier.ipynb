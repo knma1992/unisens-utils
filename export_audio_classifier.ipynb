{
 "cells": [
  {
   "cell_type": "code",
   "execution_count": null,
   "metadata": {},
   "outputs": [],
   "source": [
    "import importlib\n",
    "from pathlib import Path\n",
    "\n",
    "import numpy as np\n",
    "import unisens_util as unisens_util\n",
    "\n",
    "importlib.reload(unisens_util)"
   ]
  },
  {
   "cell_type": "code",
   "execution_count": null,
   "metadata": {},
   "outputs": [],
   "source": [
    "# export scores\n",
    "\n",
    "value_name = \"score\"\n",
    "file_path = Path(r\"path\")\n",
    "np_value_datatype = np.float32\n",
    "\n",
    "\n",
    "_ = unisens_util.csv_from_values_entry(\n",
    "    value_name=value_name,\n",
    "    file_path=file_path,\n",
    "    np_value_datatype=np_value_datatype,\n",
    "    float_format=\"%.4f\",\n",
    "    zoneInfo=\"Europe/Berlin\",\n",
    "    abs_time=True,\n",
    ")"
   ]
  },
  {
   "cell_type": "code",
   "execution_count": null,
   "metadata": {},
   "outputs": [],
   "source": [
    "# export embeddings\n",
    "\n",
    "value_name = \"embedding\"\n",
    "file_path = Path(r\"path\")\n",
    "np_value_datatype = np.float32\n",
    "\n",
    "\n",
    "_ = unisens_util.csv_from_values_entry(\n",
    "    value_name=value_name,\n",
    "    file_path=file_path,\n",
    "    np_value_datatype=np_value_datatype,\n",
    "    float_format=\"%.4f\",\n",
    "    zoneInfo=\"Europe/Berlin\",\n",
    "    abs_time=True,\n",
    ")"
   ]
  },
  {
   "cell_type": "code",
   "execution_count": null,
   "metadata": {},
   "outputs": [],
   "source": []
  }
 ],
 "metadata": {
  "kernelspec": {
   "display_name": "test_unisens",
   "language": "python",
   "name": "python3"
  },
  "language_info": {
   "codemirror_mode": {
    "name": "ipython",
    "version": 3
   },
   "file_extension": ".py",
   "mimetype": "text/x-python",
   "name": "python",
   "nbconvert_exporter": "python",
   "pygments_lexer": "ipython3",
   "version": "3.13.2"
  }
 },
 "nbformat": 4,
 "nbformat_minor": 2
}
